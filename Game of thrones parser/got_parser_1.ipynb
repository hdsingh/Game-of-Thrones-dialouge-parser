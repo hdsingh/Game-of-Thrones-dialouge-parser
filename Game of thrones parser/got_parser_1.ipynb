{
 "cells": [
  {
   "cell_type": "code",
   "execution_count": 1,
   "metadata": {},
   "outputs": [],
   "source": [
    "import bs4 as bs\n",
    "from urllib.request import Request, urlopen"
   ]
  },
  {
   "cell_type": "code",
   "execution_count": 2,
   "metadata": {},
   "outputs": [],
   "source": [
    "main_site =  'https://lyrics.az'\n",
    "site  = 'https://lyrics.az/game-of-thrones/season-1-scripts/'"
   ]
  },
  {
   "cell_type": "code",
   "execution_count": 9,
   "metadata": {},
   "outputs": [],
   "source": [
    "req = Request(site, headers={'User-Agent': 'Mozilla/5.0'})\n",
    "webpage = urlopen(req).read()\n",
    "soup = bs.BeautifulSoup(webpage,'lxml')"
   ]
  },
  {
   "cell_type": "code",
   "execution_count": 10,
   "metadata": {
    "scrolled": false
   },
   "outputs": [
    {
     "name": "stdout",
     "output_type": "stream",
     "text": [
      "Browse Lyrics by band/artist name or enter artist/album/song to search :\n",
      "Note: Do not search for \"Alejandro by Lady Gaga\"\n",
      "Search for \"Alejandro\" OR \"Lady Gaga\"\n"
     ]
    }
   ],
   "source": [
    "body = soup.body\n",
    "for paragraph in body.find_all('p'):\n",
    "    print(paragraph.text)"
   ]
  },
  {
   "cell_type": "code",
   "execution_count": 11,
   "metadata": {},
   "outputs": [],
   "source": [
    "s1_sites = []\n",
    "for url in soup.find_all('a'):\n",
    "    if '/game-of-thrones/season-1-scripts/' in url.get('href'):\n",
    "        s1_sites.append(url.get('href'))"
   ]
  },
  {
   "cell_type": "code",
   "execution_count": 12,
   "metadata": {},
   "outputs": [],
   "source": [
    "seasons = ['/game-of-thrones/season-6-scripts/',\n",
    "'/game-of-thrones/season-4-scripts/',\n",
    "'/game-of-thrones/season-5-scripts/',\n",
    "'/game-of-thrones/season-3-scripts/',\n",
    "'/game-of-thrones/season-2-scripts/',\n",
    "]"
   ]
  },
  {
   "cell_type": "code",
   "execution_count": 13,
   "metadata": {},
   "outputs": [],
   "source": [
    "site_list = []\n",
    "for season in seasons:\n",
    "    season_joined = main_site + season \n",
    "    req = Request(season_joined, headers={'User-Agent': 'Mozilla/5.0'})\n",
    "    webpage = urlopen(req).read()\n",
    "    soup = bs.BeautifulSoup(webpage,'lxml')\n",
    "    \n",
    "    for url in soup.find_all('a'):\n",
    "        if  '{}'.format(season) in url.get('href'):\n",
    "            site_list.append(url.get('href'))"
   ]
  },
  {
   "cell_type": "code",
   "execution_count": 14,
   "metadata": {},
   "outputs": [],
   "source": [
    "site_list += s1_sites"
   ]
  },
  {
   "cell_type": "code",
   "execution_count": 16,
   "metadata": {},
   "outputs": [],
   "source": [
    "for site in site_list:\n",
    "    name = site.split('-scripts/')[1]\n",
    "    number = site.split('-scripts/')[0][-1]\n",
    "    name = name.split('.html')[0]\n",
    "    name = number + '_' + name + '.txt'\n",
    "    \n",
    "    req = Request(main_site +site, headers={'User-Agent': 'Mozilla/5.0'})\n",
    "    webpage = urlopen(req).read()\n",
    "\n",
    "    soup = bs.BeautifulSoup(webpage,'lxml')\n",
    "    \n",
    "    body = soup.body\n",
    "    f = open(name,'w',encoding = 'utf8')\n",
    "    for paragraph in body.find_all('p'):\n",
    "        if 'Browse Lyrics by band/artist name or enter artist/album/song to search' not in paragraph:\n",
    "            f.write(paragraph.text)"
   ]
  },
  {
   "cell_type": "code",
   "execution_count": 18,
   "metadata": {},
   "outputs": [],
   "source": [
    "import os"
   ]
  },
  {
   "cell_type": "code",
   "execution_count": 19,
   "metadata": {},
   "outputs": [],
   "source": [
    "dir = 'data/'"
   ]
  },
  {
   "cell_type": "code",
   "execution_count": 32,
   "metadata": {},
   "outputs": [
    {
     "data": {
      "text/plain": [
       "44"
      ]
     },
     "execution_count": 32,
     "metadata": {},
     "output_type": "execute_result"
    }
   ],
   "source": [
    "files = os.listdir(dir)\n",
    "len(files)"
   ]
  },
  {
   "cell_type": "code",
   "execution_count": 31,
   "metadata": {},
   "outputs": [
    {
     "name": "stdout",
     "output_type": "stream",
     "text": [
      "7\n"
     ]
    }
   ],
   "source": [
    "c = 1\n",
    "for file  in files:\n",
    "    file = file.split('.txt')[0]\n",
    "    if 'editing' in file:\n",
    "        c+=1\n",
    "print(c)"
   ]
  },
  {
   "cell_type": "code",
   "execution_count": 26,
   "metadata": {},
   "outputs": [],
   "source": [
    "for site in site_list:\n",
    "    name = site.split('-scripts/')[1]\n",
    "    number = site.split('-scripts/')[0][-1]\n",
    "    name = name.split('.html')[0]\n",
    "    name = number + '_' + name + '.txt'\n",
    "    f = open('data/'+ name,\"r\" , encoding  = 'utf8')\n",
    "    lines = f.readlines()\n",
    "    f.close()\n",
    "    f = open('data/'+ name,\"w\", encoding= 'utf8')\n",
    "    for line in lines:\n",
    "        if 'Browse Lyrics by band/artist name or enter artist/album/song to search' not in line:\n",
    "            f.write(line)\n",
    "    f.close()"
   ]
  },
  {
   "cell_type": "markdown",
   "metadata": {},
   "source": [
    "# 2nd parser "
   ]
  },
  {
   "cell_type": "code",
   "execution_count": 42,
   "metadata": {},
   "outputs": [],
   "source": [
    "site = 'https://genius.com/albums/Game-of-thrones/Season-7-scripts'"
   ]
  },
  {
   "cell_type": "code",
   "execution_count": 43,
   "metadata": {},
   "outputs": [],
   "source": [
    "req = Request(site, headers={'User-Agent': 'Mozilla/5.0'})\n",
    "webpage = urlopen(req).read()\n",
    "soup = bs.BeautifulSoup(webpage,'lxml')"
   ]
  },
  {
   "cell_type": "code",
   "execution_count": 38,
   "metadata": {},
   "outputs": [
    {
     "name": "stdout",
     "output_type": "stream",
     "text": [
      "https://genius.com/Game-of-thrones-dragonstone-script-annotated\n",
      "https://genius.com/Game-of-thrones-stormborn-script-annotated\n",
      "https://genius.com/Game-of-thrones-the-queens-justice-script-annotated\n",
      "https://genius.com/Game-of-thrones-the-spoils-of-war-script-annotated\n",
      "https://genius.com/Game-of-thrones-eastwatch-script-annotated\n",
      "https://genius.com/Game-of-thrones-beyond-the-wall-script-annotated\n",
      "https://genius.com/Game-of-thrones-the-dragon-and-the-wolf-script-annotated\n"
     ]
    }
   ],
   "source": [
    "for url in soup.find_all('a'):\n",
    "    if 'Game-of-thrones-' in url.get('href'):\n",
    "        print(url.get('href'))"
   ]
  },
  {
   "cell_type": "code",
   "execution_count": 41,
   "metadata": {},
   "outputs": [],
   "source": [
    "season_sites = []\n",
    "for num in range(1,8):\n",
    "    season_site = 'https://genius.com/albums/Game-of-thrones/Season-{}-scripts'.format(num)\n",
    "    season_sites.append(season_site)"
   ]
  },
  {
   "cell_type": "code",
   "execution_count": 66,
   "metadata": {},
   "outputs": [
    {
     "data": {
      "text/plain": [
       "'1'"
      ]
     },
     "execution_count": 66,
     "metadata": {},
     "output_type": "execute_result"
    }
   ],
   "source": [
    "season_sites[0].split('Season-')[1][0]"
   ]
  },
  {
   "cell_type": "code",
   "execution_count": 60,
   "metadata": {},
   "outputs": [],
   "source": [
    "complete_list = []\n",
    "\n",
    "for site in season_sites:\n",
    "    s_num = season_site.split('Season-')[1][0]\n",
    "    req = Request(site, headers={'User-Agent': 'Mozilla/5.0'})\n",
    "    webpage = urlopen(req).read()\n",
    "    soup = bs.BeautifulSoup(webpage,'lxml')\n",
    "    for url in soup.find_all('a'):\n",
    "        if 'Game-of-thrones-' in url.get('href'):\n",
    "            complete_list.append(url.get('href')) "
   ]
  },
  {
   "cell_type": "markdown",
   "metadata": {},
   "source": [
    "###  Main parser"
   ]
  },
  {
   "cell_type": "code",
   "execution_count": 74,
   "metadata": {},
   "outputs": [],
   "source": [
    "for site in season_sites:\n",
    "    s_num = site.split('Season-')[1][0]\n",
    "    req = Request(site, headers={'User-Agent': 'Mozilla/5.0'})\n",
    "    webpage = urlopen(req).read()\n",
    "    soup = bs.BeautifulSoup(webpage,'lxml')\n",
    "    e_num = 1\n",
    "    for url in soup.find_all('a'):\n",
    "        if 'Game-of-thrones-' in url.get('href'):\n",
    "            url = (url.get('href')) \n",
    "            name = url.split('Game-of-thrones-')[1]\n",
    "            name = s_num + '_'+str(e_num)+'_' + name\n",
    "            \n",
    "            req = Request(url, headers={'User-Agent': 'Mozilla/5.0'})\n",
    "            webpage = urlopen(req).read()\n",
    "            soup = bs.BeautifulSoup(webpage,'lxml')\n",
    "            \n",
    "            body = soup.body\n",
    "            f = open('data1/'+name+'.txt','w',encoding = 'utf8')\n",
    "            for paragraph in body.find_all('p'):\n",
    "                f.write(paragraph.text)\n",
    "            f.close()\n",
    "            e_num +=1"
   ]
  },
  {
   "cell_type": "code",
   "execution_count": null,
   "metadata": {},
   "outputs": [],
   "source": []
  }
 ],
 "metadata": {
  "kernelspec": {
   "display_name": "Python 3",
   "language": "python",
   "name": "python3"
  },
  "language_info": {
   "codemirror_mode": {
    "name": "ipython",
    "version": 3
   },
   "file_extension": ".py",
   "mimetype": "text/x-python",
   "name": "python",
   "nbconvert_exporter": "python",
   "pygments_lexer": "ipython3",
   "version": "3.6.4"
  }
 },
 "nbformat": 4,
 "nbformat_minor": 2
}
